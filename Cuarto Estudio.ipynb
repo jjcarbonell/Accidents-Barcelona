{
 "cells": [
  {
   "cell_type": "code",
   "execution_count": 126,
   "metadata": {},
   "outputs": [],
   "source": [
    "import pandas as pd\n",
    "import numpy as np"
   ]
  },
  {
   "cell_type": "code",
   "execution_count": 127,
   "metadata": {},
   "outputs": [],
   "source": [
    "datos = pd.read_csv('C:\\master\\dataset.csv')\n",
    "clima = pd.read_csv('C:\\master\\datosclima.csv')"
   ]
  },
  {
   "cell_type": "code",
   "execution_count": 128,
   "metadata": {},
   "outputs": [],
   "source": [
    "datos['date'] = pd.to_datetime(datos['date'])"
   ]
  },
  {
   "cell_type": "code",
   "execution_count": 129,
   "metadata": {},
   "outputs": [],
   "source": [
    "clima['FECHA'] = pd.to_datetime(clima['FECHA'])"
   ]
  },
  {
   "cell_type": "code",
   "execution_count": 130,
   "metadata": {},
   "outputs": [],
   "source": [
    "clima['FECHA'] = clima['FECHA'].dt.strftime('%Y-%m-%d')\n",
    "clima['FECHA'] = pd.to_datetime(clima['FECHA'])"
   ]
  },
  {
   "cell_type": "code",
   "execution_count": 131,
   "metadata": {},
   "outputs": [],
   "source": [
    "clima = clima.rename(columns={'FECHA': 'date'})"
   ]
  },
  {
   "cell_type": "code",
   "execution_count": 132,
   "metadata": {},
   "outputs": [
    {
     "data": {
      "text/html": [
       "<div>\n",
       "<style scoped>\n",
       "    .dataframe tbody tr th:only-of-type {\n",
       "        vertical-align: middle;\n",
       "    }\n",
       "\n",
       "    .dataframe tbody tr th {\n",
       "        vertical-align: top;\n",
       "    }\n",
       "\n",
       "    .dataframe thead th {\n",
       "        text-align: right;\n",
       "    }\n",
       "</style>\n",
       "<table border=\"1\" class=\"dataframe\">\n",
       "  <thead>\n",
       "    <tr style=\"text-align: right;\">\n",
       "      <th></th>\n",
       "      <th>GridID</th>\n",
       "      <th>date</th>\n",
       "      <th>Shift</th>\n",
       "      <th>Accident</th>\n",
       "      <th>Longitude.grid</th>\n",
       "      <th>Latitude.grid</th>\n",
       "    </tr>\n",
       "  </thead>\n",
       "  <tbody>\n",
       "    <tr>\n",
       "      <th>0</th>\n",
       "      <td>1</td>\n",
       "      <td>2010-10-08</td>\n",
       "      <td>Night</td>\n",
       "      <td>0</td>\n",
       "      <td>2.08</td>\n",
       "      <td>41.41</td>\n",
       "    </tr>\n",
       "    <tr>\n",
       "      <th>1</th>\n",
       "      <td>1</td>\n",
       "      <td>2011-02-16</td>\n",
       "      <td>Morning</td>\n",
       "      <td>0</td>\n",
       "      <td>2.08</td>\n",
       "      <td>41.41</td>\n",
       "    </tr>\n",
       "    <tr>\n",
       "      <th>2</th>\n",
       "      <td>1</td>\n",
       "      <td>2014-05-31</td>\n",
       "      <td>Night</td>\n",
       "      <td>0</td>\n",
       "      <td>2.08</td>\n",
       "      <td>41.41</td>\n",
       "    </tr>\n",
       "    <tr>\n",
       "      <th>3</th>\n",
       "      <td>1</td>\n",
       "      <td>2011-04-03</td>\n",
       "      <td>Afternoon</td>\n",
       "      <td>0</td>\n",
       "      <td>2.08</td>\n",
       "      <td>41.41</td>\n",
       "    </tr>\n",
       "    <tr>\n",
       "      <th>4</th>\n",
       "      <td>1</td>\n",
       "      <td>2013-02-20</td>\n",
       "      <td>Morning</td>\n",
       "      <td>0</td>\n",
       "      <td>2.08</td>\n",
       "      <td>41.41</td>\n",
       "    </tr>\n",
       "  </tbody>\n",
       "</table>\n",
       "</div>"
      ],
      "text/plain": [
       "   GridID       date      Shift  Accident  Longitude.grid  Latitude.grid\n",
       "0       1 2010-10-08      Night         0            2.08          41.41\n",
       "1       1 2011-02-16    Morning         0            2.08          41.41\n",
       "2       1 2014-05-31      Night         0            2.08          41.41\n",
       "3       1 2011-04-03  Afternoon         0            2.08          41.41\n",
       "4       1 2013-02-20    Morning         0            2.08          41.41"
      ]
     },
     "execution_count": 132,
     "metadata": {},
     "output_type": "execute_result"
    }
   ],
   "source": [
    "datos.head()"
   ]
  },
  {
   "cell_type": "code",
   "execution_count": 133,
   "metadata": {},
   "outputs": [
    {
     "data": {
      "text/html": [
       "<div>\n",
       "<style scoped>\n",
       "    .dataframe tbody tr th:only-of-type {\n",
       "        vertical-align: middle;\n",
       "    }\n",
       "\n",
       "    .dataframe tbody tr th {\n",
       "        vertical-align: top;\n",
       "    }\n",
       "\n",
       "    .dataframe thead th {\n",
       "        text-align: right;\n",
       "    }\n",
       "</style>\n",
       "<table border=\"1\" class=\"dataframe\">\n",
       "  <thead>\n",
       "    <tr style=\"text-align: right;\">\n",
       "      <th></th>\n",
       "      <th>date</th>\n",
       "      <th>Precipitacion</th>\n",
       "      <th>Maxima</th>\n",
       "      <th>Minima</th>\n",
       "      <th>Media</th>\n",
       "    </tr>\n",
       "  </thead>\n",
       "  <tbody>\n",
       "    <tr>\n",
       "      <th>0</th>\n",
       "      <td>2010-01-01</td>\n",
       "      <td>0.0</td>\n",
       "      <td>13.8</td>\n",
       "      <td>10.0</td>\n",
       "      <td>11.90</td>\n",
       "    </tr>\n",
       "    <tr>\n",
       "      <th>1</th>\n",
       "      <td>2010-02-01</td>\n",
       "      <td>0.0</td>\n",
       "      <td>11.9</td>\n",
       "      <td>8.6</td>\n",
       "      <td>10.25</td>\n",
       "    </tr>\n",
       "    <tr>\n",
       "      <th>2</th>\n",
       "      <td>2010-03-01</td>\n",
       "      <td>0.1</td>\n",
       "      <td>14.2</td>\n",
       "      <td>8.4</td>\n",
       "      <td>11.30</td>\n",
       "    </tr>\n",
       "    <tr>\n",
       "      <th>3</th>\n",
       "      <td>2010-04-01</td>\n",
       "      <td>15.0</td>\n",
       "      <td>12.2</td>\n",
       "      <td>9.3</td>\n",
       "      <td>10.75</td>\n",
       "    </tr>\n",
       "    <tr>\n",
       "      <th>4</th>\n",
       "      <td>2010-05-01</td>\n",
       "      <td>2.2</td>\n",
       "      <td>12.3</td>\n",
       "      <td>9.7</td>\n",
       "      <td>11.00</td>\n",
       "    </tr>\n",
       "  </tbody>\n",
       "</table>\n",
       "</div>"
      ],
      "text/plain": [
       "        date  Precipitacion  Maxima  Minima  Media\n",
       "0 2010-01-01            0.0    13.8    10.0  11.90\n",
       "1 2010-02-01            0.0    11.9     8.6  10.25\n",
       "2 2010-03-01            0.1    14.2     8.4  11.30\n",
       "3 2010-04-01           15.0    12.2     9.3  10.75\n",
       "4 2010-05-01            2.2    12.3     9.7  11.00"
      ]
     },
     "execution_count": 133,
     "metadata": {},
     "output_type": "execute_result"
    }
   ],
   "source": [
    "clima.head()"
   ]
  },
  {
   "cell_type": "code",
   "execution_count": 134,
   "metadata": {},
   "outputs": [
    {
     "data": {
      "text/plain": [
       "date             0\n",
       "Precipitacion    0\n",
       "Maxima           0\n",
       "Minima           0\n",
       "Media            0\n",
       "dtype: int64"
      ]
     },
     "execution_count": 134,
     "metadata": {},
     "output_type": "execute_result"
    }
   ],
   "source": [
    "clima.isnull().sum()"
   ]
  },
  {
   "cell_type": "code",
   "execution_count": 135,
   "metadata": {},
   "outputs": [],
   "source": [
    "datosAC = pd.merge(datos,\n",
    "                 clima[['date', 'Precipitacion', 'Maxima', 'Minima', 'Media']],\n",
    "                 on='date')"
   ]
  },
  {
   "cell_type": "code",
   "execution_count": 136,
   "metadata": {},
   "outputs": [
    {
     "data": {
      "text/html": [
       "<div>\n",
       "<style scoped>\n",
       "    .dataframe tbody tr th:only-of-type {\n",
       "        vertical-align: middle;\n",
       "    }\n",
       "\n",
       "    .dataframe tbody tr th {\n",
       "        vertical-align: top;\n",
       "    }\n",
       "\n",
       "    .dataframe thead th {\n",
       "        text-align: right;\n",
       "    }\n",
       "</style>\n",
       "<table border=\"1\" class=\"dataframe\">\n",
       "  <thead>\n",
       "    <tr style=\"text-align: right;\">\n",
       "      <th></th>\n",
       "      <th>GridID</th>\n",
       "      <th>date</th>\n",
       "      <th>Shift</th>\n",
       "      <th>Accident</th>\n",
       "      <th>Longitude.grid</th>\n",
       "      <th>Latitude.grid</th>\n",
       "      <th>Precipitacion</th>\n",
       "      <th>Maxima</th>\n",
       "      <th>Minima</th>\n",
       "      <th>Media</th>\n",
       "    </tr>\n",
       "  </thead>\n",
       "  <tbody>\n",
       "    <tr>\n",
       "      <th>0</th>\n",
       "      <td>1</td>\n",
       "      <td>2010-10-08</td>\n",
       "      <td>Night</td>\n",
       "      <td>0</td>\n",
       "      <td>2.080</td>\n",
       "      <td>41.4100</td>\n",
       "      <td>0.0</td>\n",
       "      <td>27.0</td>\n",
       "      <td>23.5</td>\n",
       "      <td>25.25</td>\n",
       "    </tr>\n",
       "    <tr>\n",
       "      <th>1</th>\n",
       "      <td>3</td>\n",
       "      <td>2010-10-08</td>\n",
       "      <td>Morning</td>\n",
       "      <td>0</td>\n",
       "      <td>2.085</td>\n",
       "      <td>41.4200</td>\n",
       "      <td>0.0</td>\n",
       "      <td>27.0</td>\n",
       "      <td>23.5</td>\n",
       "      <td>25.25</td>\n",
       "    </tr>\n",
       "    <tr>\n",
       "      <th>2</th>\n",
       "      <td>10</td>\n",
       "      <td>2010-10-08</td>\n",
       "      <td>Morning</td>\n",
       "      <td>0</td>\n",
       "      <td>2.095</td>\n",
       "      <td>41.4150</td>\n",
       "      <td>0.0</td>\n",
       "      <td>27.0</td>\n",
       "      <td>23.5</td>\n",
       "      <td>25.25</td>\n",
       "    </tr>\n",
       "    <tr>\n",
       "      <th>3</th>\n",
       "      <td>13</td>\n",
       "      <td>2010-10-08</td>\n",
       "      <td>Morning</td>\n",
       "      <td>0</td>\n",
       "      <td>2.095</td>\n",
       "      <td>41.4225</td>\n",
       "      <td>0.0</td>\n",
       "      <td>27.0</td>\n",
       "      <td>23.5</td>\n",
       "      <td>25.25</td>\n",
       "    </tr>\n",
       "    <tr>\n",
       "      <th>4</th>\n",
       "      <td>14</td>\n",
       "      <td>2010-10-08</td>\n",
       "      <td>Morning</td>\n",
       "      <td>0</td>\n",
       "      <td>2.095</td>\n",
       "      <td>41.4250</td>\n",
       "      <td>0.0</td>\n",
       "      <td>27.0</td>\n",
       "      <td>23.5</td>\n",
       "      <td>25.25</td>\n",
       "    </tr>\n",
       "  </tbody>\n",
       "</table>\n",
       "</div>"
      ],
      "text/plain": [
       "   GridID       date    Shift  Accident  Longitude.grid  Latitude.grid  \\\n",
       "0       1 2010-10-08    Night         0           2.080        41.4100   \n",
       "1       3 2010-10-08  Morning         0           2.085        41.4200   \n",
       "2      10 2010-10-08  Morning         0           2.095        41.4150   \n",
       "3      13 2010-10-08  Morning         0           2.095        41.4225   \n",
       "4      14 2010-10-08  Morning         0           2.095        41.4250   \n",
       "\n",
       "   Precipitacion  Maxima  Minima  Media  \n",
       "0            0.0    27.0    23.5  25.25  \n",
       "1            0.0    27.0    23.5  25.25  \n",
       "2            0.0    27.0    23.5  25.25  \n",
       "3            0.0    27.0    23.5  25.25  \n",
       "4            0.0    27.0    23.5  25.25  "
      ]
     },
     "execution_count": 136,
     "metadata": {},
     "output_type": "execute_result"
    }
   ],
   "source": [
    "datosAC.head()"
   ]
  },
  {
   "cell_type": "code",
   "execution_count": 137,
   "metadata": {},
   "outputs": [
    {
     "data": {
      "text/plain": [
       "GridID            0\n",
       "date              0\n",
       "Shift             0\n",
       "Accident          0\n",
       "Longitude.grid    0\n",
       "Latitude.grid     0\n",
       "Precipitacion     0\n",
       "Maxima            0\n",
       "Minima            0\n",
       "Media             0\n",
       "dtype: int64"
      ]
     },
     "execution_count": 137,
     "metadata": {},
     "output_type": "execute_result"
    }
   ],
   "source": [
    "datosAC.isnull().sum()"
   ]
  },
  {
   "cell_type": "code",
   "execution_count": 138,
   "metadata": {},
   "outputs": [],
   "source": [
    "aux = []\n",
    "for prep in datosAC[\"Precipitacion\"]:\n",
    "    if ( prep >= 0 and prep <= 1 ):\n",
    "        aux.append(\"ausente\")\n",
    "    if ( prep > 1 and prep <= 5 ): \n",
    "        aux.append(\"debil\")\n",
    "    if ( prep > 5 and prep <= 15 ): \n",
    "        aux.append(\"moderada\")\n",
    "    if ( prep > 15 ): \n",
    "        aux.append(\"fuerte\")\n",
    "    \n",
    "datosAC[\"Lluvia\"] = aux"
   ]
  },
  {
   "cell_type": "code",
   "execution_count": 139,
   "metadata": {},
   "outputs": [
    {
     "data": {
      "text/plain": [
       "0    689304\n",
       "1     46726\n",
       "3     34007\n",
       "2     21372\n",
       "Name: Lluvia, dtype: int64"
      ]
     },
     "execution_count": 139,
     "metadata": {},
     "output_type": "execute_result"
    }
   ],
   "source": [
    "LE.fit(datosAC[\"Lluvia\"])\n",
    "list(LE.classes_)\n",
    "datosAC[\"Lluvia\"] = LE.transform(datosAC[\"Lluvia\"])\n",
    "datosAC[\"Lluvia\"].value_counts()"
   ]
  },
  {
   "cell_type": "code",
   "execution_count": 143,
   "metadata": {},
   "outputs": [
    {
     "data": {
      "text/plain": [
       "[0, 1, 2]"
      ]
     },
     "execution_count": 143,
     "metadata": {},
     "output_type": "execute_result"
    }
   ],
   "source": [
    "from sklearn.preprocessing import LabelEncoder\n",
    "LE = LabelEncoder()\n",
    "LE.fit(datosAC[\"Shift\"])\n",
    "list(LE.classes_)"
   ]
  },
  {
   "cell_type": "code",
   "execution_count": 144,
   "metadata": {},
   "outputs": [
    {
     "data": {
      "text/plain": [
       "0    268541\n",
       "1    266313\n",
       "2    256555\n",
       "Name: Shift, dtype: int64"
      ]
     },
     "execution_count": 144,
     "metadata": {},
     "output_type": "execute_result"
    }
   ],
   "source": [
    "datosAC[\"Shift\"] = LE.transform(datosAC[\"Shift\"])\n",
    "datosAC[\"Shift\"].value_counts()"
   ]
  },
  {
   "cell_type": "code",
   "execution_count": 145,
   "metadata": {},
   "outputs": [],
   "source": [
    "datosAC = datosAC.drop(\"Precipitacion\",1)"
   ]
  },
  {
   "cell_type": "code",
   "execution_count": 146,
   "metadata": {},
   "outputs": [],
   "source": [
    "from datetime import datetime, date, time, timedelta\n",
    "import calendar"
   ]
  },
  {
   "cell_type": "code",
   "execution_count": 147,
   "metadata": {},
   "outputs": [],
   "source": [
    "Week_Day = []\n",
    "for fecha in datosAC['date']:\n",
    "    dia_semana = datetime.weekday(fecha)+1\n",
    "    Week_Day.append(dia_semana)\n",
    "    \n",
    "datosAC['Week.Day'] = Week_Day\n",
    "del Week_Day"
   ]
  },
  {
   "cell_type": "code",
   "execution_count": 148,
   "metadata": {},
   "outputs": [],
   "source": [
    "datosAC[\"Type.Day\"] = datosAC[\"Week.Day\"].apply(lambda x: 'workday' if x<6 else 'weekend')"
   ]
  },
  {
   "cell_type": "code",
   "execution_count": 149,
   "metadata": {},
   "outputs": [
    {
     "data": {
      "text/plain": [
       "['weekend', 'workday']"
      ]
     },
     "execution_count": 149,
     "metadata": {},
     "output_type": "execute_result"
    }
   ],
   "source": [
    "LE.fit(datosAC[\"Type.Day\"])\n",
    "list(LE.classes_)"
   ]
  },
  {
   "cell_type": "code",
   "execution_count": 150,
   "metadata": {},
   "outputs": [
    {
     "data": {
      "text/plain": [
       "1    569827\n",
       "0    221582\n",
       "Name: Type.Day, dtype: int64"
      ]
     },
     "execution_count": 150,
     "metadata": {},
     "output_type": "execute_result"
    }
   ],
   "source": [
    "datosAC[\"Type.Day\"] = LE.transform(datosAC[\"Type.Day\"])\n",
    "datosAC[\"Type.Day\"].value_counts()"
   ]
  },
  {
   "cell_type": "code",
   "execution_count": 151,
   "metadata": {},
   "outputs": [],
   "source": [
    "festivos = ('1-1','6-1','19-4','22-4','1-05','10-6','24-6','15-8','11-9','24-9','12-10','1-11','6-12','8-12','25-12','26-12')\n",
    "\n",
    "festive = []\n",
    "for fecha in datosAC['date']:\n",
    "    pasat = False\n",
    "    for festivo in festivos:\n",
    "        aux = festivo.split(\"-\")\n",
    "        aux2 = datetime.strftime(fecha, '%Y-%m-%d').split(\"-\")\n",
    "        if ( (aux2[1] == aux[1]) and (aux2[2] == aux[0]) and (pasat == False) ):\n",
    "            festive.append(1)\n",
    "            pasat = True\n",
    "    if (pasat == False):\n",
    "        festive.append(0)\n",
    "\n",
    "datosAC['Festive'] = festive\n",
    "del festive\n",
    "del festivos\n",
    "\n",
    "datosAC.loc[datosAC['Week.Day'] > 6, 'Festive'] = 1 "
   ]
  },
  {
   "cell_type": "code",
   "execution_count": 152,
   "metadata": {},
   "outputs": [
    {
     "data": {
      "text/plain": [
       "0    676454\n",
       "1    114955\n",
       "Name: Festive, dtype: int64"
      ]
     },
     "execution_count": 152,
     "metadata": {},
     "output_type": "execute_result"
    }
   ],
   "source": [
    "datosAC['Festive'].value_counts()"
   ]
  },
  {
   "cell_type": "code",
   "execution_count": 153,
   "metadata": {},
   "outputs": [
    {
     "data": {
      "text/html": [
       "<div>\n",
       "<style scoped>\n",
       "    .dataframe tbody tr th:only-of-type {\n",
       "        vertical-align: middle;\n",
       "    }\n",
       "\n",
       "    .dataframe tbody tr th {\n",
       "        vertical-align: top;\n",
       "    }\n",
       "\n",
       "    .dataframe thead th {\n",
       "        text-align: right;\n",
       "    }\n",
       "</style>\n",
       "<table border=\"1\" class=\"dataframe\">\n",
       "  <thead>\n",
       "    <tr style=\"text-align: right;\">\n",
       "      <th></th>\n",
       "      <th>GridID</th>\n",
       "      <th>date</th>\n",
       "      <th>Shift</th>\n",
       "      <th>Accident</th>\n",
       "      <th>Longitude.grid</th>\n",
       "      <th>Latitude.grid</th>\n",
       "      <th>Maxima</th>\n",
       "      <th>Minima</th>\n",
       "      <th>Media</th>\n",
       "      <th>Lluvia</th>\n",
       "      <th>Week.Day</th>\n",
       "      <th>Type.Day</th>\n",
       "      <th>Festive</th>\n",
       "    </tr>\n",
       "  </thead>\n",
       "  <tbody>\n",
       "    <tr>\n",
       "      <th>0</th>\n",
       "      <td>1</td>\n",
       "      <td>2010-10-08</td>\n",
       "      <td>2</td>\n",
       "      <td>0</td>\n",
       "      <td>2.080</td>\n",
       "      <td>41.4100</td>\n",
       "      <td>27.0</td>\n",
       "      <td>23.5</td>\n",
       "      <td>25.25</td>\n",
       "      <td>0</td>\n",
       "      <td>5</td>\n",
       "      <td>1</td>\n",
       "      <td>0</td>\n",
       "    </tr>\n",
       "    <tr>\n",
       "      <th>1</th>\n",
       "      <td>3</td>\n",
       "      <td>2010-10-08</td>\n",
       "      <td>1</td>\n",
       "      <td>0</td>\n",
       "      <td>2.085</td>\n",
       "      <td>41.4200</td>\n",
       "      <td>27.0</td>\n",
       "      <td>23.5</td>\n",
       "      <td>25.25</td>\n",
       "      <td>0</td>\n",
       "      <td>5</td>\n",
       "      <td>1</td>\n",
       "      <td>0</td>\n",
       "    </tr>\n",
       "    <tr>\n",
       "      <th>2</th>\n",
       "      <td>10</td>\n",
       "      <td>2010-10-08</td>\n",
       "      <td>1</td>\n",
       "      <td>0</td>\n",
       "      <td>2.095</td>\n",
       "      <td>41.4150</td>\n",
       "      <td>27.0</td>\n",
       "      <td>23.5</td>\n",
       "      <td>25.25</td>\n",
       "      <td>0</td>\n",
       "      <td>5</td>\n",
       "      <td>1</td>\n",
       "      <td>0</td>\n",
       "    </tr>\n",
       "    <tr>\n",
       "      <th>3</th>\n",
       "      <td>13</td>\n",
       "      <td>2010-10-08</td>\n",
       "      <td>1</td>\n",
       "      <td>0</td>\n",
       "      <td>2.095</td>\n",
       "      <td>41.4225</td>\n",
       "      <td>27.0</td>\n",
       "      <td>23.5</td>\n",
       "      <td>25.25</td>\n",
       "      <td>0</td>\n",
       "      <td>5</td>\n",
       "      <td>1</td>\n",
       "      <td>0</td>\n",
       "    </tr>\n",
       "    <tr>\n",
       "      <th>4</th>\n",
       "      <td>14</td>\n",
       "      <td>2010-10-08</td>\n",
       "      <td>1</td>\n",
       "      <td>0</td>\n",
       "      <td>2.095</td>\n",
       "      <td>41.4250</td>\n",
       "      <td>27.0</td>\n",
       "      <td>23.5</td>\n",
       "      <td>25.25</td>\n",
       "      <td>0</td>\n",
       "      <td>5</td>\n",
       "      <td>1</td>\n",
       "      <td>0</td>\n",
       "    </tr>\n",
       "  </tbody>\n",
       "</table>\n",
       "</div>"
      ],
      "text/plain": [
       "   GridID       date  Shift  Accident  Longitude.grid  Latitude.grid  Maxima  \\\n",
       "0       1 2010-10-08      2         0           2.080        41.4100    27.0   \n",
       "1       3 2010-10-08      1         0           2.085        41.4200    27.0   \n",
       "2      10 2010-10-08      1         0           2.095        41.4150    27.0   \n",
       "3      13 2010-10-08      1         0           2.095        41.4225    27.0   \n",
       "4      14 2010-10-08      1         0           2.095        41.4250    27.0   \n",
       "\n",
       "   Minima  Media  Lluvia  Week.Day  Type.Day  Festive  \n",
       "0    23.5  25.25       0         5         1        0  \n",
       "1    23.5  25.25       0         5         1        0  \n",
       "2    23.5  25.25       0         5         1        0  \n",
       "3    23.5  25.25       0         5         1        0  \n",
       "4    23.5  25.25       0         5         1        0  "
      ]
     },
     "execution_count": 153,
     "metadata": {},
     "output_type": "execute_result"
    }
   ],
   "source": [
    "datosAC.head()"
   ]
  },
  {
   "cell_type": "code",
   "execution_count": null,
   "metadata": {},
   "outputs": [],
   "source": []
  },
  {
   "cell_type": "code",
   "execution_count": 154,
   "metadata": {},
   "outputs": [],
   "source": [
    "import seaborn as sns"
   ]
  },
  {
   "cell_type": "code",
   "execution_count": 155,
   "metadata": {},
   "outputs": [],
   "source": [
    "from IPython.display import set_matplotlib_formats\n",
    "set_matplotlib_formats('retina')"
   ]
  },
  {
   "cell_type": "code",
   "execution_count": 157,
   "metadata": {},
   "outputs": [
    {
     "data": {
      "text/plain": [
       "<seaborn.axisgrid.FacetGrid at 0x11c0acc0>"
      ]
     },
     "execution_count": 157,
     "metadata": {},
     "output_type": "execute_result"
    },
    {
     "data": {
      "image/png": "[encoded data removed]",
      "text/plain": [
       "<Figure size 1440x360 with 4 Axes>"
      ]
     },
     "metadata": {
      "image/png": {
       "height": 351,
       "width": 1445
      },
      "needs_background": "light"
     },
     "output_type": "display_data"
    }
   ],
   "source": [
    "sns.catplot(x=\"Accident\", col=\"Lluvia\",data=datosAC, palette=\"Set2\", kind=\"count\")"
   ]
  },
  {
   "cell_type": "markdown",
   "metadata": {},
   "source": [
    "# Árbol decisiones"
   ]
  },
  {
   "cell_type": "code",
   "execution_count": 167,
   "metadata": {},
   "outputs": [],
   "source": [
    "X = datosAC.drop(\"Accident\",1)\n",
    "X = X.drop(\"date\",1)\n",
    "y = datosAC[\"Accident\"]"
   ]
  },
  {
   "cell_type": "code",
   "execution_count": 168,
   "metadata": {},
   "outputs": [
    {
     "name": "stdout",
     "output_type": "stream",
     "text": [
      "(791409, 11)\n",
      "(791409,)\n"
     ]
    }
   ],
   "source": [
    "print(X.shape)\n",
    "print(y.shape)"
   ]
  },
  {
   "cell_type": "code",
   "execution_count": 169,
   "metadata": {},
   "outputs": [
    {
     "name": "stdout",
     "output_type": "stream",
     "text": [
      "(553986, 11)\n",
      "(237423, 11)\n",
      "(553986,)\n",
      "(237423,)\n"
     ]
    }
   ],
   "source": [
    "from sklearn.model_selection import train_test_split\n",
    "X_train, X_test, y_train, y_test = train_test_split(X, y, stratify=y, test_size=0.30, random_state=1)\n",
    "print (X_train.shape)\n",
    "print (X_test.shape)\n",
    "print (y_train.shape)\n",
    "print (y_test.shape)"
   ]
  },
  {
   "cell_type": "code",
   "execution_count": 170,
   "metadata": {},
   "outputs": [],
   "source": [
    "from sklearn.tree import DecisionTreeClassifier\n",
    "DTC = DecisionTreeClassifier(criterion='entropy', random_state=1)\n"
   ]
  },
  {
   "cell_type": "code",
   "execution_count": 171,
   "metadata": {},
   "outputs": [
    {
     "data": {
      "text/plain": [
       "DecisionTreeClassifier(class_weight=None, criterion='entropy', max_depth=None,\n",
       "            max_features=None, max_leaf_nodes=None,\n",
       "            min_impurity_decrease=0.0, min_impurity_split=None,\n",
       "            min_samples_leaf=1, min_samples_split=2,\n",
       "            min_weight_fraction_leaf=0.0, presort=False, random_state=1,\n",
       "            splitter='best')"
      ]
     },
     "execution_count": 171,
     "metadata": {},
     "output_type": "execute_result"
    }
   ],
   "source": [
    "DTC.fit(X_train, y_train)"
   ]
  },
  {
   "cell_type": "code",
   "execution_count": 172,
   "metadata": {},
   "outputs": [],
   "source": [
    "y_train_pred = DTC.predict_proba(X_train)\n",
    "from sklearn.metrics import roc_auc_score"
   ]
  },
  {
   "cell_type": "code",
   "execution_count": 173,
   "metadata": {},
   "outputs": [
    {
     "name": "stdout",
     "output_type": "stream",
     "text": [
      "0.9999999473697296 Árbol de decisión - Datos de entrenamiento\n"
     ]
    }
   ],
   "source": [
    "print(roc_auc_score(y_train, y_train_pred[:, 1]), \"Árbol de decisión - Datos de entrenamiento\")"
   ]
  },
  {
   "cell_type": "code",
   "execution_count": 174,
   "metadata": {},
   "outputs": [],
   "source": [
    "y_test_pred = DTC.predict_proba(X_test)"
   ]
  },
  {
   "cell_type": "code",
   "execution_count": 175,
   "metadata": {},
   "outputs": [
    {
     "name": "stdout",
     "output_type": "stream",
     "text": [
      "0.5448394539129807 Árbol de decisión - Datos de test\n"
     ]
    }
   ],
   "source": [
    "print(roc_auc_score(y_test, y_test_pred[:, 1]), \"Árbol de decisión - Datos de test\")"
   ]
  },
  {
   "cell_type": "markdown",
   "metadata": {},
   "source": [
    "# Como se ha visto en la gráfica, tenemos overfit con los datos de Lluvia, la gran mayoria de accidentes se producen sin lluvia, es mas la mayoria de registros vienen condicionados a falta de lluvia."
   ]
  },
  {
   "cell_type": "markdown",
   "metadata": {},
   "source": [
    "Hemos querido trabajar con un dataset de clima extraido de datosclima.es, se ha comentado en clase y hay compañeros que han optado por añadirlo y otros no, no se ha comentado en el foro de la asignatura.\n",
    "\n",
    "Los datos de clima no son 100% fiables, la extracción ha dejado registros sin datos de precipitaciones y temperaturas, se ha optado por hacer medias de temperaturas y comparar registros de lluvias de otros años para rellenar los datos ausentes."
   ]
  },
  {
   "cell_type": "code",
   "execution_count": null,
   "metadata": {},
   "outputs": [],
   "source": []
  }
 ],
 "metadata": {
  "kernelspec": {
   "display_name": "Python 3",
   "language": "python",
   "name": "python3"
  },
  "language_info": {
   "codemirror_mode": {
    "name": "ipython",
    "version": 3
   },
   "file_extension": ".py",
   "mimetype": "text/x-python",
   "name": "python",
   "nbconvert_exporter": "python",
   "pygments_lexer": "ipython3",
   "version": "3.7.1"
  }
 },
 "nbformat": 4,
 "nbformat_minor": 2
}
