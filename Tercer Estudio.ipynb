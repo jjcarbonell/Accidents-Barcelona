{
 "cells": [
  {
   "cell_type": "code",
   "execution_count": 1,
   "metadata": {},
   "outputs": [],
   "source": [
    "import pandas as pd\n",
    "import numpy as np"
   ]
  },
  {
   "cell_type": "code",
   "execution_count": 2,
   "metadata": {},
   "outputs": [],
   "source": [
    "datos = pd.read_csv('C:\\master\\dataset.csv')"
   ]
  },
  {
   "cell_type": "code",
   "execution_count": 3,
   "metadata": {},
   "outputs": [],
   "source": [
    "datos['date'] = pd.to_datetime(datos['date'])"
   ]
  },
  {
   "cell_type": "code",
   "execution_count": 4,
   "metadata": {},
   "outputs": [
    {
     "data": {
      "text/plain": [
       "['Afternoon', 'Morning', 'Night']"
      ]
     },
     "execution_count": 4,
     "metadata": {},
     "output_type": "execute_result"
    }
   ],
   "source": [
    "from sklearn.preprocessing import LabelEncoder\n",
    "LE = LabelEncoder()\n",
    "LE.fit(datos[\"Shift\"])\n",
    "list(LE.classes_)"
   ]
  },
  {
   "cell_type": "code",
   "execution_count": 5,
   "metadata": {},
   "outputs": [
    {
     "data": {
      "text/plain": [
       "0    279847\n",
       "1    277391\n",
       "2    267349\n",
       "Name: Shift, dtype: int64"
      ]
     },
     "execution_count": 5,
     "metadata": {},
     "output_type": "execute_result"
    }
   ],
   "source": [
    "datos[\"Shift\"] = LE.transform(datos[\"Shift\"])\n",
    "datos[\"Shift\"].value_counts()"
   ]
  },
  {
   "cell_type": "code",
   "execution_count": 6,
   "metadata": {},
   "outputs": [
    {
     "data": {
      "text/html": [
       "<div>\n",
       "<style scoped>\n",
       "    .dataframe tbody tr th:only-of-type {\n",
       "        vertical-align: middle;\n",
       "    }\n",
       "\n",
       "    .dataframe tbody tr th {\n",
       "        vertical-align: top;\n",
       "    }\n",
       "\n",
       "    .dataframe thead th {\n",
       "        text-align: right;\n",
       "    }\n",
       "</style>\n",
       "<table border=\"1\" class=\"dataframe\">\n",
       "  <thead>\n",
       "    <tr style=\"text-align: right;\">\n",
       "      <th></th>\n",
       "      <th>GridID</th>\n",
       "      <th>date</th>\n",
       "      <th>Shift</th>\n",
       "      <th>Accident</th>\n",
       "      <th>Longitude.grid</th>\n",
       "      <th>Latitude.grid</th>\n",
       "    </tr>\n",
       "  </thead>\n",
       "  <tbody>\n",
       "    <tr>\n",
       "      <th>0</th>\n",
       "      <td>1</td>\n",
       "      <td>2010-10-08</td>\n",
       "      <td>2</td>\n",
       "      <td>0</td>\n",
       "      <td>2.08</td>\n",
       "      <td>41.41</td>\n",
       "    </tr>\n",
       "    <tr>\n",
       "      <th>1</th>\n",
       "      <td>1</td>\n",
       "      <td>2011-02-16</td>\n",
       "      <td>1</td>\n",
       "      <td>0</td>\n",
       "      <td>2.08</td>\n",
       "      <td>41.41</td>\n",
       "    </tr>\n",
       "    <tr>\n",
       "      <th>2</th>\n",
       "      <td>1</td>\n",
       "      <td>2014-05-31</td>\n",
       "      <td>2</td>\n",
       "      <td>0</td>\n",
       "      <td>2.08</td>\n",
       "      <td>41.41</td>\n",
       "    </tr>\n",
       "    <tr>\n",
       "      <th>3</th>\n",
       "      <td>1</td>\n",
       "      <td>2011-04-03</td>\n",
       "      <td>0</td>\n",
       "      <td>0</td>\n",
       "      <td>2.08</td>\n",
       "      <td>41.41</td>\n",
       "    </tr>\n",
       "    <tr>\n",
       "      <th>4</th>\n",
       "      <td>1</td>\n",
       "      <td>2013-02-20</td>\n",
       "      <td>1</td>\n",
       "      <td>0</td>\n",
       "      <td>2.08</td>\n",
       "      <td>41.41</td>\n",
       "    </tr>\n",
       "  </tbody>\n",
       "</table>\n",
       "</div>"
      ],
      "text/plain": [
       "   GridID       date  Shift  Accident  Longitude.grid  Latitude.grid\n",
       "0       1 2010-10-08      2         0            2.08          41.41\n",
       "1       1 2011-02-16      1         0            2.08          41.41\n",
       "2       1 2014-05-31      2         0            2.08          41.41\n",
       "3       1 2011-04-03      0         0            2.08          41.41\n",
       "4       1 2013-02-20      1         0            2.08          41.41"
      ]
     },
     "execution_count": 6,
     "metadata": {},
     "output_type": "execute_result"
    }
   ],
   "source": [
    "datos.head()"
   ]
  },
  {
   "cell_type": "code",
   "execution_count": 7,
   "metadata": {},
   "outputs": [],
   "source": [
    "from datetime import datetime, date, time, timedelta\n",
    "import calendar"
   ]
  },
  {
   "cell_type": "code",
   "execution_count": 8,
   "metadata": {},
   "outputs": [],
   "source": [
    "Week_Day = []\n",
    "for fecha in datos['date']:\n",
    "    dia_semana = datetime.weekday(fecha)+1\n",
    "    Week_Day.append(dia_semana)\n",
    "    \n",
    "datos['Week.Day'] = Week_Day\n",
    "del Week_Day"
   ]
  },
  {
   "cell_type": "code",
   "execution_count": 9,
   "metadata": {},
   "outputs": [],
   "source": [
    "datos[\"Type.Day\"] = datos[\"Week.Day\"].apply(lambda x: 'workday' if x<6 else 'weekend')"
   ]
  },
  {
   "cell_type": "code",
   "execution_count": 10,
   "metadata": {},
   "outputs": [
    {
     "data": {
      "text/html": [
       "<div>\n",
       "<style scoped>\n",
       "    .dataframe tbody tr th:only-of-type {\n",
       "        vertical-align: middle;\n",
       "    }\n",
       "\n",
       "    .dataframe tbody tr th {\n",
       "        vertical-align: top;\n",
       "    }\n",
       "\n",
       "    .dataframe thead th {\n",
       "        text-align: right;\n",
       "    }\n",
       "</style>\n",
       "<table border=\"1\" class=\"dataframe\">\n",
       "  <thead>\n",
       "    <tr style=\"text-align: right;\">\n",
       "      <th></th>\n",
       "      <th>GridID</th>\n",
       "      <th>date</th>\n",
       "      <th>Shift</th>\n",
       "      <th>Accident</th>\n",
       "      <th>Longitude.grid</th>\n",
       "      <th>Latitude.grid</th>\n",
       "      <th>Week.Day</th>\n",
       "      <th>Type.Day</th>\n",
       "    </tr>\n",
       "  </thead>\n",
       "  <tbody>\n",
       "    <tr>\n",
       "      <th>0</th>\n",
       "      <td>1</td>\n",
       "      <td>2010-10-08</td>\n",
       "      <td>2</td>\n",
       "      <td>0</td>\n",
       "      <td>2.08</td>\n",
       "      <td>41.41</td>\n",
       "      <td>5</td>\n",
       "      <td>workday</td>\n",
       "    </tr>\n",
       "    <tr>\n",
       "      <th>1</th>\n",
       "      <td>1</td>\n",
       "      <td>2011-02-16</td>\n",
       "      <td>1</td>\n",
       "      <td>0</td>\n",
       "      <td>2.08</td>\n",
       "      <td>41.41</td>\n",
       "      <td>3</td>\n",
       "      <td>workday</td>\n",
       "    </tr>\n",
       "    <tr>\n",
       "      <th>2</th>\n",
       "      <td>1</td>\n",
       "      <td>2014-05-31</td>\n",
       "      <td>2</td>\n",
       "      <td>0</td>\n",
       "      <td>2.08</td>\n",
       "      <td>41.41</td>\n",
       "      <td>6</td>\n",
       "      <td>weekend</td>\n",
       "    </tr>\n",
       "    <tr>\n",
       "      <th>3</th>\n",
       "      <td>1</td>\n",
       "      <td>2011-04-03</td>\n",
       "      <td>0</td>\n",
       "      <td>0</td>\n",
       "      <td>2.08</td>\n",
       "      <td>41.41</td>\n",
       "      <td>7</td>\n",
       "      <td>weekend</td>\n",
       "    </tr>\n",
       "    <tr>\n",
       "      <th>4</th>\n",
       "      <td>1</td>\n",
       "      <td>2013-02-20</td>\n",
       "      <td>1</td>\n",
       "      <td>0</td>\n",
       "      <td>2.08</td>\n",
       "      <td>41.41</td>\n",
       "      <td>3</td>\n",
       "      <td>workday</td>\n",
       "    </tr>\n",
       "  </tbody>\n",
       "</table>\n",
       "</div>"
      ],
      "text/plain": [
       "   GridID       date  Shift  Accident  Longitude.grid  Latitude.grid  \\\n",
       "0       1 2010-10-08      2         0            2.08          41.41   \n",
       "1       1 2011-02-16      1         0            2.08          41.41   \n",
       "2       1 2014-05-31      2         0            2.08          41.41   \n",
       "3       1 2011-04-03      0         0            2.08          41.41   \n",
       "4       1 2013-02-20      1         0            2.08          41.41   \n",
       "\n",
       "   Week.Day Type.Day  \n",
       "0         5  workday  \n",
       "1         3  workday  \n",
       "2         6  weekend  \n",
       "3         7  weekend  \n",
       "4         3  workday  "
      ]
     },
     "execution_count": 10,
     "metadata": {},
     "output_type": "execute_result"
    }
   ],
   "source": [
    "datos.head()"
   ]
  },
  {
   "cell_type": "code",
   "execution_count": 11,
   "metadata": {},
   "outputs": [
    {
     "data": {
      "text/plain": [
       "['weekend', 'workday']"
      ]
     },
     "execution_count": 11,
     "metadata": {},
     "output_type": "execute_result"
    }
   ],
   "source": [
    "LE.fit(datos[\"Type.Day\"])\n",
    "list(LE.classes_)"
   ]
  },
  {
   "cell_type": "code",
   "execution_count": 12,
   "metadata": {},
   "outputs": [
    {
     "data": {
      "text/plain": [
       "1    591925\n",
       "0    232662\n",
       "Name: Type.Day, dtype: int64"
      ]
     },
     "execution_count": 12,
     "metadata": {},
     "output_type": "execute_result"
    }
   ],
   "source": [
    "datos[\"Type.Day\"] = LE.transform(datos[\"Type.Day\"])\n",
    "datos[\"Type.Day\"].value_counts()"
   ]
  },
  {
   "cell_type": "code",
   "execution_count": 13,
   "metadata": {},
   "outputs": [],
   "source": [
    "festivos = ('1-1','6-1','19-4','22-4','1-05','10-6','24-6','15-8','11-9','24-9','12-10','1-11','6-12','8-12','25-12','26-12')\n",
    "\n",
    "festive = []\n",
    "for fecha in datos['date']:\n",
    "    pasat = False\n",
    "    for festivo in festivos:\n",
    "        aux = festivo.split(\"-\")\n",
    "        aux2 = datetime.strftime(fecha, '%Y-%m-%d').split(\"-\")\n",
    "        if ( (aux2[1] == aux[1]) and (aux2[2] == aux[0]) and (pasat == False) ):\n",
    "            festive.append(1)\n",
    "            pasat = True\n",
    "    if (pasat == False):\n",
    "        festive.append(0)\n",
    "\n",
    "datos['Festive'] = festive\n",
    "del festive\n",
    "del festivos\n",
    "\n",
    "datos.loc[datos['Week.Day'] > 6, 'Festive'] = 1 "
   ]
  },
  {
   "cell_type": "code",
   "execution_count": 14,
   "metadata": {},
   "outputs": [
    {
     "data": {
      "text/plain": [
       "0    703431\n",
       "1    121156\n",
       "Name: Festive, dtype: int64"
      ]
     },
     "execution_count": 14,
     "metadata": {},
     "output_type": "execute_result"
    }
   ],
   "source": [
    "datos['Festive'].value_counts()"
   ]
  },
  {
   "cell_type": "code",
   "execution_count": 15,
   "metadata": {},
   "outputs": [
    {
     "data": {
      "text/html": [
       "<div>\n",
       "<style scoped>\n",
       "    .dataframe tbody tr th:only-of-type {\n",
       "        vertical-align: middle;\n",
       "    }\n",
       "\n",
       "    .dataframe tbody tr th {\n",
       "        vertical-align: top;\n",
       "    }\n",
       "\n",
       "    .dataframe thead th {\n",
       "        text-align: right;\n",
       "    }\n",
       "</style>\n",
       "<table border=\"1\" class=\"dataframe\">\n",
       "  <thead>\n",
       "    <tr style=\"text-align: right;\">\n",
       "      <th></th>\n",
       "      <th>GridID</th>\n",
       "      <th>date</th>\n",
       "      <th>Shift</th>\n",
       "      <th>Accident</th>\n",
       "      <th>Longitude.grid</th>\n",
       "      <th>Latitude.grid</th>\n",
       "      <th>Week.Day</th>\n",
       "      <th>Type.Day</th>\n",
       "      <th>Festive</th>\n",
       "    </tr>\n",
       "  </thead>\n",
       "  <tbody>\n",
       "    <tr>\n",
       "      <th>0</th>\n",
       "      <td>1</td>\n",
       "      <td>2010-10-08</td>\n",
       "      <td>2</td>\n",
       "      <td>0</td>\n",
       "      <td>2.08</td>\n",
       "      <td>41.41</td>\n",
       "      <td>5</td>\n",
       "      <td>1</td>\n",
       "      <td>0</td>\n",
       "    </tr>\n",
       "    <tr>\n",
       "      <th>1</th>\n",
       "      <td>1</td>\n",
       "      <td>2011-02-16</td>\n",
       "      <td>1</td>\n",
       "      <td>0</td>\n",
       "      <td>2.08</td>\n",
       "      <td>41.41</td>\n",
       "      <td>3</td>\n",
       "      <td>1</td>\n",
       "      <td>0</td>\n",
       "    </tr>\n",
       "    <tr>\n",
       "      <th>2</th>\n",
       "      <td>1</td>\n",
       "      <td>2014-05-31</td>\n",
       "      <td>2</td>\n",
       "      <td>0</td>\n",
       "      <td>2.08</td>\n",
       "      <td>41.41</td>\n",
       "      <td>6</td>\n",
       "      <td>0</td>\n",
       "      <td>0</td>\n",
       "    </tr>\n",
       "    <tr>\n",
       "      <th>3</th>\n",
       "      <td>1</td>\n",
       "      <td>2011-04-03</td>\n",
       "      <td>0</td>\n",
       "      <td>0</td>\n",
       "      <td>2.08</td>\n",
       "      <td>41.41</td>\n",
       "      <td>7</td>\n",
       "      <td>0</td>\n",
       "      <td>1</td>\n",
       "    </tr>\n",
       "    <tr>\n",
       "      <th>4</th>\n",
       "      <td>1</td>\n",
       "      <td>2013-02-20</td>\n",
       "      <td>1</td>\n",
       "      <td>0</td>\n",
       "      <td>2.08</td>\n",
       "      <td>41.41</td>\n",
       "      <td>3</td>\n",
       "      <td>1</td>\n",
       "      <td>0</td>\n",
       "    </tr>\n",
       "  </tbody>\n",
       "</table>\n",
       "</div>"
      ],
      "text/plain": [
       "   GridID       date  Shift  Accident  Longitude.grid  Latitude.grid  \\\n",
       "0       1 2010-10-08      2         0            2.08          41.41   \n",
       "1       1 2011-02-16      1         0            2.08          41.41   \n",
       "2       1 2014-05-31      2         0            2.08          41.41   \n",
       "3       1 2011-04-03      0         0            2.08          41.41   \n",
       "4       1 2013-02-20      1         0            2.08          41.41   \n",
       "\n",
       "   Week.Day  Type.Day  Festive  \n",
       "0         5         1        0  \n",
       "1         3         1        0  \n",
       "2         6         0        0  \n",
       "3         7         0        1  \n",
       "4         3         1        0  "
      ]
     },
     "execution_count": 15,
     "metadata": {},
     "output_type": "execute_result"
    }
   ],
   "source": [
    "datos.head()"
   ]
  },
  {
   "cell_type": "markdown",
   "metadata": {},
   "source": [
    "Árbol decisiones"
   ]
  },
  {
   "cell_type": "code",
   "execution_count": 16,
   "metadata": {},
   "outputs": [],
   "source": [
    "X = datos.drop(\"Accident\",1)\n",
    "X = X.drop(\"date\",1)"
   ]
  },
  {
   "cell_type": "code",
   "execution_count": 17,
   "metadata": {},
   "outputs": [],
   "source": [
    "y = datos[\"Accident\"]"
   ]
  },
  {
   "cell_type": "code",
   "execution_count": 18,
   "metadata": {},
   "outputs": [
    {
     "name": "stdout",
     "output_type": "stream",
     "text": [
      "(824587, 7)\n",
      "(824587,)\n"
     ]
    }
   ],
   "source": [
    "print(X.shape)\n",
    "print(y.shape)"
   ]
  },
  {
   "cell_type": "code",
   "execution_count": 19,
   "metadata": {},
   "outputs": [],
   "source": [
    "from sklearn.model_selection import train_test_split\n",
    "X_train, X_test, y_train, y_test = train_test_split(X, y, stratify=y, test_size=0.30, random_state=1)"
   ]
  },
  {
   "cell_type": "code",
   "execution_count": 20,
   "metadata": {},
   "outputs": [
    {
     "name": "stdout",
     "output_type": "stream",
     "text": [
      "(577210, 7)\n",
      "(247377, 7)\n",
      "(577210,)\n",
      "(247377,)\n"
     ]
    }
   ],
   "source": [
    "print (X_train.shape)\n",
    "print (X_test.shape)\n",
    "print (y_train.shape)\n",
    "print (y_test.shape)"
   ]
  },
  {
   "cell_type": "code",
   "execution_count": 21,
   "metadata": {},
   "outputs": [],
   "source": [
    "from sklearn.tree import DecisionTreeClassifier\n",
    "DTC = DecisionTreeClassifier(criterion='entropy', random_state=1)"
   ]
  },
  {
   "cell_type": "code",
   "execution_count": 22,
   "metadata": {},
   "outputs": [
    {
     "data": {
      "text/plain": [
       "DecisionTreeClassifier(class_weight=None, criterion='entropy', max_depth=None,\n",
       "            max_features=None, max_leaf_nodes=None,\n",
       "            min_impurity_decrease=0.0, min_impurity_split=None,\n",
       "            min_samples_leaf=1, min_samples_split=2,\n",
       "            min_weight_fraction_leaf=0.0, presort=False, random_state=1,\n",
       "            splitter='best')"
      ]
     },
     "execution_count": 22,
     "metadata": {},
     "output_type": "execute_result"
    }
   ],
   "source": [
    "DTC.fit(X_train, y_train)"
   ]
  },
  {
   "cell_type": "code",
   "execution_count": 23,
   "metadata": {},
   "outputs": [],
   "source": [
    "y_train_pred = DTC.predict_proba(X_train)"
   ]
  },
  {
   "cell_type": "code",
   "execution_count": 24,
   "metadata": {},
   "outputs": [],
   "source": [
    "from sklearn.metrics import roc_auc_score"
   ]
  },
  {
   "cell_type": "code",
   "execution_count": 25,
   "metadata": {},
   "outputs": [
    {
     "name": "stdout",
     "output_type": "stream",
     "text": [
      "0.8842975712086046 Árbol de decisión - Datos de entrenamiento\n"
     ]
    }
   ],
   "source": [
    "print(roc_auc_score(y_train, y_train_pred[:, 1]), \"Árbol de decisión - Datos de entrenamiento\")"
   ]
  },
  {
   "cell_type": "code",
   "execution_count": 26,
   "metadata": {},
   "outputs": [],
   "source": [
    "y_test_pred = DTC.predict_proba(X_test)"
   ]
  },
  {
   "cell_type": "code",
   "execution_count": 27,
   "metadata": {},
   "outputs": [
    {
     "name": "stdout",
     "output_type": "stream",
     "text": [
      "0.7319843960335785 Árbol de decisión - Datos de test\n"
     ]
    }
   ],
   "source": [
    "print(roc_auc_score(y_test, y_test_pred[:, 1]), \"Árbol de decisión - Datos de test\")"
   ]
  },
  {
   "cell_type": "markdown",
   "metadata": {},
   "source": [
    "# Escalamos\n",
    "\n",
    "Para ayudar al algoritmo, miramos de estandariar el conjunto de datos, hemos de estandarizar los datos \"unicos\" a las caracteriticas que hemos extraido a partir de estos."
   ]
  },
  {
   "cell_type": "code",
   "execution_count": 28,
   "metadata": {},
   "outputs": [
    {
     "name": "stderr",
     "output_type": "stream",
     "text": [
      "C:\\ProgramData\\Anaconda3\\lib\\site-packages\\sklearn\\preprocessing\\data.py:323: DataConversionWarning: Data with input dtype int32, int64, float64 were all converted to float64 by MinMaxScaler.\n",
      "  return self.partial_fit(X, y)\n"
     ]
    }
   ],
   "source": [
    "from sklearn.preprocessing import MinMaxScaler\n",
    "X = MinMaxScaler().fit_transform(X)"
   ]
  },
  {
   "cell_type": "code",
   "execution_count": 29,
   "metadata": {},
   "outputs": [],
   "source": [
    "from sklearn.model_selection import train_test_split\n",
    "X_train, X_test, y_train, y_test = train_test_split(X, y, test_size=0.40, random_state=15)"
   ]
  },
  {
   "cell_type": "code",
   "execution_count": 30,
   "metadata": {},
   "outputs": [],
   "source": [
    "from sklearn.linear_model import LogisticRegression\n",
    "from sklearn.metrics import accuracy_score\n",
    "LR = LogisticRegression()"
   ]
  },
  {
   "cell_type": "code",
   "execution_count": 31,
   "metadata": {},
   "outputs": [
    {
     "name": "stderr",
     "output_type": "stream",
     "text": [
      "C:\\ProgramData\\Anaconda3\\lib\\site-packages\\sklearn\\linear_model\\logistic.py:433: FutureWarning: Default solver will be changed to 'lbfgs' in 0.22. Specify a solver to silence this warning.\n",
      "  FutureWarning)\n"
     ]
    }
   ],
   "source": [
    "LR.fit(X_train, y_train)\n",
    "y_train_pred = LR.predict(X_train)\n",
    "y_test_pred = LR.predict(X_test)"
   ]
  },
  {
   "cell_type": "code",
   "execution_count": 32,
   "metadata": {},
   "outputs": [
    {
     "name": "stdout",
     "output_type": "stream",
     "text": [
      "0.955531256063644  Accuracy - Datos de entrenamiento\n"
     ]
    }
   ],
   "source": [
    "print(accuracy_score(y_train, y_train_pred), \" Accuracy - Datos de entrenamiento\")"
   ]
  },
  {
   "cell_type": "code",
   "execution_count": 33,
   "metadata": {},
   "outputs": [
    {
     "name": "stdout",
     "output_type": "stream",
     "text": [
      "0.9559901162702563 Accuracy - Datos de test\n"
     ]
    }
   ],
   "source": [
    "print(accuracy_score(y_test, y_test_pred), \"Accuracy - Datos de test\")"
   ]
  },
  {
   "cell_type": "code",
   "execution_count": null,
   "metadata": {},
   "outputs": [],
   "source": []
  }
 ],
 "metadata": {
  "kernelspec": {
   "display_name": "Python 3",
   "language": "python",
   "name": "python3"
  },
  "language_info": {
   "codemirror_mode": {
    "name": "ipython",
    "version": 3
   },
   "file_extension": ".py",
   "mimetype": "text/x-python",
   "name": "python",
   "nbconvert_exporter": "python",
   "pygments_lexer": "ipython3",
   "version": "3.7.1"
  }
 },
 "nbformat": 4,
 "nbformat_minor": 2
}
